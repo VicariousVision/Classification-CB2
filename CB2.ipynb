{
  "nbformat": 4,
  "nbformat_minor": 0,
  "metadata": {
    "colab": {
      "name": "CB2.ipynb",
      "provenance": [],
      "authorship_tag": "ABX9TyO9NAuFmLIjP3eBiVYt0NjR",
      "include_colab_link": true
    },
    "kernelspec": {
      "name": "python3",
      "display_name": "Python 3"
    },
    "language_info": {
      "name": "python"
    }
  },
  "cells": [
    {
      "cell_type": "markdown",
      "metadata": {
        "id": "view-in-github",
        "colab_type": "text"
      },
      "source": [
        "<a href=\"https://colab.research.google.com/github/VicariousVision/Classification-CB2/blob/main/CB2.ipynb\" target=\"_parent\"><img src=\"https://colab.research.google.com/assets/colab-badge.svg\" alt=\"Open In Colab\"/></a>"
      ]
    },
    {
      "cell_type": "markdown",
      "source": [
        "# **CB2 Movie reccomendation notebook**\n",
        "\n",
        "\n",
        "\n"
      ],
      "metadata": {
        "id": "GhmQToR-SL2c"
      }
    },
    {
      "cell_type": "code",
      "execution_count": null,
      "metadata": {
        "id": "GGmHvEN5gUNQ"
      },
      "outputs": [],
      "source": [
        ""
      ]
    }
  ]
}