{
 "cells": [
  {
   "cell_type": "code",
   "execution_count": 1,
   "id": "e4aa273d",
   "metadata": {
    "_cell_guid": "b1076dfc-b9ad-4769-8c92-a6c4dae69d19",
    "_uuid": "8f2839f25d086af736a60e9eeb907d3b93b6e0e5",
    "execution": {
     "iopub.execute_input": "2022-07-12T18:02:01.773673Z",
     "iopub.status.busy": "2022-07-12T18:02:01.772924Z",
     "iopub.status.idle": "2022-07-12T18:02:01.800675Z",
     "shell.execute_reply": "2022-07-12T18:02:01.799468Z"
    },
    "papermill": {
     "duration": 0.034788,
     "end_time": "2022-07-12T18:02:01.803253",
     "exception": false,
     "start_time": "2022-07-12T18:02:01.768465",
     "status": "completed"
    },
    "tags": []
   },
   "outputs": [
    {
     "name": "stdout",
     "output_type": "stream",
     "text": [
      "/kaggle/input/moviedata/sample_submission.csv\n",
      "/kaggle/input/moviedata/movies.csv\n",
      "/kaggle/input/moviedata/imdb_data.csv\n",
      "/kaggle/input/moviedata/genome_tags.csv\n",
      "/kaggle/input/moviedata/genome_scores.csv\n",
      "/kaggle/input/moviedata/train.csv\n",
      "/kaggle/input/moviedata/test.csv\n",
      "/kaggle/input/moviedata/tags.csv\n",
      "/kaggle/input/moviedata/links.csv\n"
     ]
    }
   ],
   "source": [
    "# This Python 3 environment comes with many helpful analytics libraries installed\n",
    "# It is defined by the kaggle/python Docker image: https://github.com/kaggle/docker-python\n",
    "# For example, here's several helpful packages to load\n",
    "\n",
    "import numpy as np # linear algebra\n",
    "import pandas as pd # data processing, CSV file I/O (e.g. pd.read_csv)\n",
    "\n",
    "# Input data files are available in the read-only \"../input/\" directory\n",
    "# For example, running this (by clicking run or pressing Shift+Enter) will list all files under the input directory\n",
    "\n",
    "import os\n",
    "for dirname, _, filenames in os.walk('/kaggle/input'):\n",
    "    for filename in filenames:\n",
    "        print(os.path.join(dirname, filename))\n",
    "\n",
    "# You can write up to 20GB to the current directory (/kaggle/working/) that gets preserved as output when you create a version using \"Save & Run All\" \n",
    "# You can also write temporary files to /kaggle/temp/, but they won't be saved outside of the current session"
   ]
  },
  {
   "cell_type": "code",
   "execution_count": 2,
   "id": "d364a02a",
   "metadata": {
    "execution": {
     "iopub.execute_input": "2022-07-12T18:02:01.808657Z",
     "iopub.status.busy": "2022-07-12T18:02:01.808262Z",
     "iopub.status.idle": "2022-07-12T18:02:25.833202Z",
     "shell.execute_reply": "2022-07-12T18:02:25.831831Z"
    },
    "papermill": {
     "duration": 24.031354,
     "end_time": "2022-07-12T18:02:25.836665",
     "exception": false,
     "start_time": "2022-07-12T18:02:01.805311",
     "status": "completed"
    },
    "tags": []
   },
   "outputs": [],
   "source": [
    "#Movies dataframe\n",
    "df_movies = pd.read_csv('../input/moviedata/movies.csv')\n",
    "\n",
    "#sample submission\n",
    "df_sample = pd.read_csv('../input/moviedata/sample_submission.csv')\n",
    "\n",
    "#Genome_scores dataframe\n",
    "df_gesc = pd.read_csv('../input/moviedata/genome_scores.csv')\n",
    "\n",
    "#links dataframe\n",
    "df_links = pd.read_csv('../input/moviedata/links.csv')\n",
    "\n",
    "#Genome_tags dataframe\n",
    "df_getg = pd.read_csv('../input/moviedata/genome_tags.csv')\n",
    "\n",
    "#imbd dataframe\n",
    "df_imdb = pd.read_csv('../input/moviedata/imdb_data.csv')\n",
    "\n",
    "#tags dataframe\n",
    "df_tags = pd.read_csv('../input/moviedata/tags.csv')\n",
    "\n",
    "#train dataframe\n",
    "df_train = pd.read_csv('../input/moviedata/train.csv')\n",
    "\n",
    "#test dataframe \n",
    "df_test = pd.read_csv('../input/moviedata/test.csv')"
   ]
  }
 ],
 "metadata": {
  "kernelspec": {
   "display_name": "Python 3",
   "language": "python",
   "name": "python3"
  },
  "language_info": {
   "codemirror_mode": {
    "name": "ipython",
    "version": 3
   },
   "file_extension": ".py",
   "mimetype": "text/x-python",
   "name": "python",
   "nbconvert_exporter": "python",
   "pygments_lexer": "ipython3",
   "version": "3.7.12"
  },
  "papermill": {
   "default_parameters": {},
   "duration": 35.595971,
   "end_time": "2022-07-12T18:02:26.664744",
   "environment_variables": {},
   "exception": null,
   "input_path": "__notebook__.ipynb",
   "output_path": "__notebook__.ipynb",
   "parameters": {},
   "start_time": "2022-07-12T18:01:51.068773",
   "version": "2.3.4"
  }
 },
 "nbformat": 4,
 "nbformat_minor": 5
}
